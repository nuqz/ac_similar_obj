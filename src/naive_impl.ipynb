{
 "cells": [
  {
   "cell_type": "markdown",
   "id": "1fc56ccd-1e26-4ab3-a02e-374a27791a48",
   "metadata": {},
   "source": [
    "# Naive implementation of the problem solution"
   ]
  },
  {
   "cell_type": "markdown",
   "id": "b28c922a-fd69-4983-876e-6b5b8a76182f",
   "metadata": {},
   "source": [
    "### Prepairing dataset pipeline"
   ]
  },
  {
   "cell_type": "code",
   "execution_count": null,
   "metadata": {},
   "outputs": [],
   "source": [
    "import tensorflow as tf\n",
    "import matplotlib.pyplot as plt\n",
    "from matplotlib.patches import Rectangle\n",
    "\n",
    "from dataset import normalized_ds\n",
    "\n",
    "plt.figure()\n",
    "for image_decoded, label in normalized_ds.take(1):\n",
    "  print(image_decoded.shape)\n",
    "  plt.imshow((image_decoded*255).numpy().astype(\"uint8\"))\n",
    "\n",
    "  (h, w, _) = image_decoded.shape\n",
    "  plt.plot(label[:,0] * w, label[:,1]*h)\n",
    "\n",
    "  plt.axis('off')"
   ]
  }
 ],
 "metadata": {
  "kernelspec": {
   "display_name": "Python 3 (ipykernel)",
   "language": "python",
   "name": "python3"
  },
  "language_info": {
   "codemirror_mode": {
    "name": "ipython",
    "version": 3
   },
   "file_extension": ".py",
   "mimetype": "text/x-python",
   "name": "python",
   "nbconvert_exporter": "python",
   "pygments_lexer": "ipython3",
   "version": "3.11.0rc1"
  }
 },
 "nbformat": 4,
 "nbformat_minor": 5
}
