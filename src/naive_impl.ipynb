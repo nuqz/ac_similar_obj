{
 "cells": [
  {
   "cell_type": "markdown",
   "id": "9cb3cf2a",
   "metadata": {},
   "source": [
    "# Naive implementation of the problem solution"
   ]
  },
  {
   "cell_type": "markdown",
   "id": "50756743",
   "metadata": {},
   "source": [
    "In this experiment we will consider a very straightforward solution to the problem. Namely, we will take the data and feed it to a convolutional neural network, which will act as a simple number crusher. I doubt that this implementation of the solution will be able to provide adequate accuracy. Therefore, the main goals at this stage will be:\n",
    "- preparing a dataset\n",
    "- augmentation\n",
    "- setting up auxiliary utilities such as TensorBoard\n",
    "- preparation of libraries for further use in subsequent experiments\n",
    "\n",
    "As a result, we compare several convolutional neural network architectures. This will be our starting point for further research."
   ]
  },
  {
   "cell_type": "markdown",
   "id": "af28c2e4",
   "metadata": {},
   "source": [
    "## Import necessary stuff"
   ]
  },
  {
   "cell_type": "code",
   "execution_count": null,
   "id": "89c3154d",
   "metadata": {},
   "outputs": [],
   "source": [
    "import tensorflow as tf\n",
    "from keras.layers import (Conv2D,\n",
    "                          Dense,\n",
    "                          Flatten,\n",
    "                          MaxPool2D)\n",
    "from keras.models import Model\n",
    "\n",
    "from dataset import (ds, split_dataset, configure_for_performance,\n",
    "                     apply_transformations)\n",
    "from dataset.transformations import flatten_label, drop_alpha_channel\n",
    "from dataset.utils import dummy_image\n",
    "from models import build_head\n",
    "from config import log_dir\n"
   ]
  },
  {
   "cell_type": "markdown",
   "id": "1aeb52cd",
   "metadata": {},
   "source": [
    "## Prepare dataset"
   ]
  },
  {
   "cell_type": "code",
   "execution_count": 2,
   "id": "72e2d78b",
   "metadata": {},
   "outputs": [],
   "source": [
    "PROCESS_BATCH_SIZE=128\n",
    "BATCH_SIZE = 64\n",
    "\n",
    "train_ds, validation_ds = split_dataset(ds)\n",
    "train_ds = apply_transformations(train_ds.repeat(2), batch=PROCESS_BATCH_SIZE)\n",
    "train_ds = configure_for_performance(train_ds, batch_size=BATCH_SIZE)\n",
    "\n",
    "validation_ds = validation_ds.map(flatten_label).map(drop_alpha_channel)\n",
    "validation_ds = configure_for_performance(validation_ds,\n",
    "                                          batch_size=BATCH_SIZE)"
   ]
  },
  {
   "cell_type": "markdown",
   "id": "ab3ccdff",
   "metadata": {},
   "source": [
    "## Build and compile model, run on a dummy input and show summary"
   ]
  },
  {
   "cell_type": "code",
   "execution_count": 3,
   "id": "2fd2bff0",
   "metadata": {},
   "outputs": [
    {
     "name": "stderr",
     "output_type": "stream",
     "text": [
      "2024-01-07 21:42:13.919963: I external/local_xla/xla/stream_executor/cuda/cuda_dnn.cc:454] Loaded cuDNN version 8906\n"
     ]
    },
    {
     "name": "stdout",
     "output_type": "stream",
     "text": [
      "Model: \"model\"\n",
      "_________________________________________________________________\n",
      " Layer (type)                Output Shape              Param #   \n",
      "=================================================================\n",
      " input_1 (InputLayer)        [(None, 344, 552, 3)]     0         \n",
      "                                                                 \n",
      " base_preprocessing (BasePr  (None, 57, 92, 1)         0         \n",
      " eprocessing)                                                    \n",
      "                                                                 \n",
      " conv2d (Conv2D)             (None, 55, 90, 64)        640       \n",
      "                                                                 \n",
      " max_pooling2d (MaxPooling2  (None, 27, 45, 64)        0         \n",
      " D)                                                              \n",
      "                                                                 \n",
      " conv2d_1 (Conv2D)           (None, 25, 43, 128)       73856     \n",
      "                                                                 \n",
      " max_pooling2d_1 (MaxPoolin  (None, 12, 21, 128)       0         \n",
      " g2D)                                                            \n",
      "                                                                 \n",
      " conv2d_2 (Conv2D)           (None, 10, 19, 256)       295168    \n",
      "                                                                 \n",
      " max_pooling2d_2 (MaxPoolin  (None, 5, 9, 256)         0         \n",
      " g2D)                                                            \n",
      "                                                                 \n",
      " conv2d_3 (Conv2D)           (None, 3, 7, 512)         1180160   \n",
      "                                                                 \n",
      " max_pooling2d_3 (MaxPoolin  (None, 1, 3, 512)         0         \n",
      " g2D)                                                            \n",
      "                                                                 \n",
      " flatten (Flatten)           (None, 1536)              0         \n",
      "                                                                 \n",
      " dense (Dense)               (None, 1024)              1573888   \n",
      "                                                                 \n",
      " dense_1 (Dense)             (None, 4)                 4100      \n",
      "                                                                 \n",
      "=================================================================\n",
      "Total params: 3127812 (11.93 MB)\n",
      "Trainable params: 3127812 (11.93 MB)\n",
      "Non-trainable params: 0 (0.00 Byte)\n",
      "_________________________________________________________________\n"
     ]
    }
   ],
   "source": [
    "def build():\n",
    "    input, x = build_head()\n",
    "\n",
    "    x = Conv2D(64, 3, activation='relu')(x)\n",
    "    x = MaxPool2D()(x)\n",
    "\n",
    "    x = Conv2D(128, 3, activation='relu')(x)\n",
    "    x = MaxPool2D()(x)\n",
    "\n",
    "    x = Conv2D(256, 3, activation='relu')(x)\n",
    "    x = MaxPool2D()(x)\n",
    "\n",
    "    x = Conv2D(512, 3, activation='relu')(x)\n",
    "    x = MaxPool2D()(x)\n",
    "\n",
    "    x = Flatten()(x)\n",
    "    x = Dense(1024, activation='relu')(x)\n",
    "\n",
    "    output = Dense(4, activation=None)(x)\n",
    "\n",
    "    return Model(inputs=input, outputs=output)\n",
    "\n",
    "model = build()\n",
    "model.compile(\n",
    "    optimizer=tf.keras.optimizers.Adam(),\n",
    "    loss=tf.keras.losses.MeanSquaredError(),\n",
    "    metrics=['accuracy'],\n",
    ")\n",
    "\n",
    "model(dummy_image(1))\n",
    "model.summary()\n"
   ]
  },
  {
   "cell_type": "markdown",
   "id": "ca32f5e7",
   "metadata": {},
   "source": [
    "## Train for a while and record results into TensorBoard"
   ]
  },
  {
   "cell_type": "code",
   "execution_count": null,
   "id": "515768e2",
   "metadata": {},
   "outputs": [],
   "source": [
    "EPOCHS = 100\n",
    "\n",
    "tensorboard_callback = tf.keras.callbacks.TensorBoard(log_dir=log_dir + '/simple')\n",
    "\n",
    "model.fit(train_ds,\n",
    "          validation_data=validation_ds,\n",
    "          epochs=EPOCHS,\n",
    "          callbacks=[tensorboard_callback])"
   ]
  }
 ],
 "metadata": {
  "kernelspec": {
   "display_name": "Python 3 (ipykernel)",
   "language": "python",
   "name": "python3"
  },
  "language_info": {
   "codemirror_mode": {
    "name": "ipython",
    "version": 3
   },
   "file_extension": ".py",
   "mimetype": "text/x-python",
   "name": "python",
   "nbconvert_exporter": "python",
   "pygments_lexer": "ipython3",
   "version": "3.11.0rc1"
  }
 },
 "nbformat": 4,
 "nbformat_minor": 5
}
