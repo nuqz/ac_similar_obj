{
 "cells": [
  {
   "cell_type": "markdown",
   "id": "1fc56ccd-1e26-4ab3-a02e-374a27791a48",
   "metadata": {},
   "source": [
    "# Naive implementation of the problem solution"
   ]
  },
  {
   "cell_type": "markdown",
   "id": "cd015f5d-f00c-466c-a975-4449b36f841b",
   "metadata": {},
   "source": [
    "## The problem\n",
    "\n",
    "An image with a size of `552x344` is given, which depicts several (possible always 7) objects. These objects can be three-dimensional letters, numbers or stereometric shapes. Objects may have different colors. There are 2 similar objects in the image, i.e. two identical letters, numbers or shapes. Other objects differ in shape. The task is to use the mouse to indicate the approximate coordinates of the centers of these two similar objects.\n",
    "\n",
    "![Example](http://127.0.0.1:8888/files/ac_similar_obj/example.png)"
   ]
  },
  {
   "cell_type": "markdown",
   "id": "5f828b7b-9278-4efb-bfc7-9f61b01e8284",
   "metadata": {},
   "source": [
    "## The dataset\n",
    "\n",
    "`$DS_ROOT/challenges` directory contains challenges as `*.png` images in the form in which they were downloaded from the source.\n",
    "\n",
    "`$DS_ROOT/solutions` contains solutions (labels) as `*.txt` plain text files. Each file contains two lines. Each line represents one bounding box and contains two float numbers. These numbers are the normalized coordinates of the rectangle that contains one of the similar objects. The first number is the coordinate of the upper left corner of this rectangle, and the second number is the coordinate of the lower right corner of this rectangle."
   ]
  },
  {
   "cell_type": "markdown",
   "id": "b28c922a-fd69-4983-876e-6b5b8a76182f",
   "metadata": {},
   "source": []
  }
 ],
 "metadata": {
  "kernelspec": {
   "display_name": "Python 3 (ipykernel)",
   "language": "python",
   "name": "python3"
  },
  "language_info": {
   "codemirror_mode": {
    "name": "ipython",
    "version": 3
   },
   "file_extension": ".py",
   "mimetype": "text/x-python",
   "name": "python",
   "nbconvert_exporter": "python",
   "pygments_lexer": "ipython3",
   "version": "3.11.0rc1"
  }
 },
 "nbformat": 4,
 "nbformat_minor": 5
}
