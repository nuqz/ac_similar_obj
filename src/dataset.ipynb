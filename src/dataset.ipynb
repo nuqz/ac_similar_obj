{
 "cells": [
  {
   "cell_type": "markdown",
   "metadata": {},
   "source": [
    "# Explore dataset and transformations"
   ]
  },
  {
   "cell_type": "markdown",
   "metadata": {},
   "source": [
    "### Import necessary stuff, define helper functions and take some sample images"
   ]
  },
  {
   "cell_type": "code",
   "execution_count": null,
   "metadata": {},
   "outputs": [],
   "source": [
    "import tensorflow as tf\n",
    "\n",
    "from dataset import ds, apply_transformations\n",
    "from dataset.transformations import drop_alpha_channel\n",
    "from dataset.utils import new_summary_writer, draw_label\n",
    "\n",
    "N_SAMPLES = 128"
   ]
  },
  {
   "cell_type": "markdown",
   "metadata": {},
   "source": [
    "To avoid repeating code, let's define a little helper to draw label marks and write images to TensorBoard."
   ]
  },
  {
   "cell_type": "code",
   "execution_count": 2,
   "metadata": {},
   "outputs": [],
   "source": [
    "def write_previews(name, preview_dataset):\n",
    "    with_labels = [draw_label(x, y, block_size=15) for x, y in preview_dataset]\n",
    "\n",
    "    with new_summary_writer().as_default():\n",
    "        tf.summary.image(name, with_labels,\n",
    "                         max_outputs=len(with_labels), step=0)"
   ]
  },
  {
   "cell_type": "markdown",
   "metadata": {},
   "source": [
    "Shuffle whole untouched dataset and take (preload) `N_SAMPLES` for previews."
   ]
  },
  {
   "cell_type": "code",
   "execution_count": 3,
   "metadata": {},
   "outputs": [],
   "source": [
    "samples = [(x, y) for x, y in ds.shuffle(ds.cardinality()).take(N_SAMPLES)]\n",
    "preview_ds = tf.data.Dataset.from_tensor_slices((\n",
    "    [x for x, _ in samples],\n",
    "    [y for _, y in samples]\n",
    "    ))"
   ]
  },
  {
   "cell_type": "markdown",
   "metadata": {},
   "source": [
    "Again, to avoid repeating code, we define helper to apply transforamtions to preview dataset and then write results in TensorBoard."
   ]
  },
  {
   "cell_type": "code",
   "execution_count": 4,
   "metadata": {},
   "outputs": [],
   "source": [
    "f = {'factor': 0.5}\n",
    "\n",
    "def apply_and_write(name, transformations):\n",
    "    transformed = apply_transformations(preview_ds,\n",
    "                                        [drop_alpha_channel, *transformations],\n",
    "                                        batch=N_SAMPLES)\n",
    "    write_previews(name, transformed)"
   ]
  },
  {
   "cell_type": "markdown",
   "metadata": {},
   "source": [
    "### Write untouched images to TensorBoard"
   ]
  },
  {
   "cell_type": "code",
   "execution_count": 5,
   "metadata": {},
   "outputs": [],
   "source": [
    "write_previews('Clean dataset', preview_ds)"
   ]
  },
  {
   "cell_type": "markdown",
   "metadata": {},
   "source": [
    "### Apply transformations one by one and write results into TensorBoard"
   ]
  },
  {
   "cell_type": "code",
   "execution_count": 6,
   "metadata": {},
   "outputs": [],
   "source": [
    "from dataset.transformations import flip_lr, flip_ud\n",
    "\n",
    "apply_and_write('Random flips', [flip_lr(**f), flip_ud(**f)])"
   ]
  },
  {
   "cell_type": "code",
   "execution_count": 7,
   "metadata": {},
   "outputs": [],
   "source": [
    "from dataset.transformations import inverse\n",
    "\n",
    "apply_and_write('Random inverse', [inverse(**f)])"
   ]
  },
  {
   "cell_type": "code",
   "execution_count": 8,
   "metadata": {},
   "outputs": [],
   "source": [
    "from dataset.transformations import remove_random_channel\n",
    "\n",
    "apply_and_write('Random channel remove', [remove_random_channel(**f)])"
   ]
  },
  {
   "cell_type": "code",
   "execution_count": 9,
   "metadata": {},
   "outputs": [],
   "source": [
    "from dataset.transformations import random_brightness\n",
    "\n",
    "apply_and_write('Random brightness', [random_brightness(**f)])"
   ]
  },
  {
   "cell_type": "code",
   "execution_count": 10,
   "metadata": {},
   "outputs": [],
   "source": [
    "from dataset.transformations import random_contrast\n",
    "\n",
    "apply_and_write('Random contrast', [random_contrast(**f)])"
   ]
  },
  {
   "cell_type": "code",
   "execution_count": 11,
   "metadata": {},
   "outputs": [],
   "source": [
    "from dataset.transformations import random_hue\n",
    "\n",
    "apply_and_write('Random HUE', [random_hue(**f)])"
   ]
  },
  {
   "cell_type": "code",
   "execution_count": 12,
   "metadata": {},
   "outputs": [],
   "source": [
    "from dataset.transformations import random_saturation\n",
    "\n",
    "apply_and_write('Random saturation', [random_saturation(**f)])"
   ]
  },
  {
   "cell_type": "code",
   "execution_count": 13,
   "metadata": {},
   "outputs": [],
   "source": [
    "from dataset.transformations import noise\n",
    "\n",
    "apply_and_write('Random noise', [noise(**f)])"
   ]
  },
  {
   "cell_type": "code",
   "execution_count": 14,
   "metadata": {},
   "outputs": [],
   "source": [
    "from dataset.transformations import new_depthwise_gaussian_kernel, gaussian_blur\n",
    "\n",
    "kernel = new_depthwise_gaussian_kernel(5, 0, 2)\n",
    "apply_and_write('Random Gaussian blur', [gaussian_blur(kernel=kernel, **f)])"
   ]
  },
  {
   "cell_type": "code",
   "execution_count": 15,
   "metadata": {},
   "outputs": [],
   "source": [
    "from dataset.transformations import add_grid_to_image\n",
    "\n",
    "apply_and_write('Random grid', [add_grid_to_image(**f)])"
   ]
  },
  {
   "cell_type": "markdown",
   "metadata": {},
   "source": [
    "### Apply all the transformations at once and see what happens"
   ]
  },
  {
   "cell_type": "code",
   "execution_count": 16,
   "metadata": {},
   "outputs": [],
   "source": [
    "from dataset.transformations import default_transformations\n",
    "\n",
    "apply_and_write('Combined random transformations', default_transformations)"
   ]
  }
 ],
 "metadata": {
  "kernelspec": {
   "display_name": "Python 3 (ipykernel)",
   "language": "python",
   "name": "python3"
  },
  "language_info": {
   "codemirror_mode": {
    "name": "ipython",
    "version": 3
   },
   "file_extension": ".py",
   "mimetype": "text/x-python",
   "name": "python",
   "nbconvert_exporter": "python",
   "pygments_lexer": "ipython3",
   "version": "3.11.0rc1"
  }
 },
 "nbformat": 4,
 "nbformat_minor": 2
}
